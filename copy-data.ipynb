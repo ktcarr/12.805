{
 "cells": [
  {
   "cell_type": "code",
   "execution_count": 2,
   "metadata": {},
   "outputs": [],
   "source": [
    "import os\n",
    "import glob\n",
    "from shutil import copy\n",
    "from multiprocessing import Pool"
   ]
  },
  {
   "cell_type": "markdown",
   "metadata": {},
   "source": [
    "## Move CESM files to scratch"
   ]
  },
  {
   "cell_type": "code",
   "execution_count": null,
   "metadata": {},
   "outputs": [],
   "source": [
    "new_path = '/vortexfs1/scratch/kcarr'\n",
    "PATH = '/vortexfs1/share/jetstream/climate/data1/yokwon/CESM1_LE/'\n",
    "flut_dir = os.path.join(PATH,  'downloaded/atm/proc/tseries/daily/FLUT')\n",
    "prect_dir = os.path.join(PATH, 'downloaded/atm/proc/tseries/daily/PRECT')\n",
    "u200_dir = os.path.join(PATH,  'downloaded/atm/proc/tseries/daily/U200')\n",
    "u850_dir = os.path.join(PATH,  'downloaded/atm/proc/tseries/daily/U850')\n",
    "sst_dir = os.path.join(PATH,   'downloaded/ocn/proc/tseries/monthly/SST')\n",
    "lf_dir = os.path.join(PATH,   'downloaded/atm/proc/tseries/monthly/LANDFRAC')\n",
    "\n",
    "flut_files  = glob.glob(os.path.join(flut_dir,  'b.e11.B20TRC5CNBDRD.f09_g16*-20051231.nc'))\n",
    "prect_files = glob.glob(os.path.join(prect_dir, 'b.e11.B20TRC5CNBDRD.f09_g16*-20051231.nc'))\n",
    "u200_files  = glob.glob(os.path.join(u200_dir,  'b.e11.B20TRC5CNBDRD.f09_g16*-20051231.nc'))\n",
    "u850_files  = glob.glob(os.path.join(u850_dir,  'b.e11.B20TRC5CNBDRD.f09_g16*-20051231.nc'))\n",
    "sst_files   = glob.glob(os.path.join(sst_dir,   'b.e11.B20TRC5CNBDRD.f09_g16*-200512.nc'))\n",
    "lf_file     = glob.glob(os.path.join(lf_dir,   'b.e11.B20TRC5CNBDRD.f09_g16*-200512.nc'))[0]\n",
    "\n",
    "def move_file(f, dst=new_path):\n",
    "    '''Move the file to the new directory'''\n",
    "    p = copy(src=f, dst=dst)\n",
    "    print(p)\n",
    "    return\n",
    "\n",
    "# files = flut_files + prect_files + sst_files\n",
    "# files = u200_files + u850_files\n",
    "with Pool(8) as p:\n",
    "    p.map(move_file, files)"
   ]
  },
  {
   "cell_type": "code",
   "execution_count": 5,
   "metadata": {},
   "outputs": [],
   "source": [
    "u_dir   = '/mnt/cmip5-data/reanalysis/era.interim/pl/u/oper'\n",
    "v_dir   = '/mnt/cmip5-data/reanalysis/era.interim/pl/v/oper'\n",
    "olr_dir = '/mnt/cmip5-data/reanalysis/era.interim/sfc/ttr/oper'\n",
    "tp_dir  = '/mnt/cmip5-data/reanalysis/era.interim/sfc/tp/oper'\n",
    "sst_dir = '/mnt/cmip5-data/reanalysis/era.interim/sfc/sst/moda'\n",
    "\n",
    "# def move_file_era(f, dst='/vortexfs1/scratch/kcarr/era-interim/'):"
   ]
  },
  {
   "cell_type": "markdown",
   "metadata": {},
   "source": []
  },
  {
   "cell_type": "code",
   "execution_count": 7,
   "metadata": {
    "collapsed": true
   },
   "outputs": [
    {
     "name": "stdout",
     "output_type": "stream",
     "text": [
      "/vortexfs1/scratch/kcarr/b.e11.B20TRC5CNBDRD.f09_g16.026.cam.h1.U200.19200101-20051231.nc\n",
      "/vortexfs1/scratch/kcarr/b.e11.B20TRC5CNBDRD.f09_g16.035.cam.h1.U200.19200101-20051231.nc\n",
      "/vortexfs1/scratch/kcarr/b.e11.B20TRC5CNBDRD.f09_g16.015.cam.h1.U200.19200101-20051231.nc\n",
      "/vortexfs1/scratch/kcarr/b.e11.B20TRC5CNBDRD.f09_g16.017.cam.h1.U200.19200101-20051231.nc\n",
      "/vortexfs1/scratch/kcarr/b.e11.B20TRC5CNBDRD.f09_g16.029.cam.h1.U200.19200101-20051231.nc\n",
      "/vortexfs1/scratch/kcarr/b.e11.B20TRC5CNBDRD.f09_g16.104.cam.h1.U200.19200101-20051231.nc\n",
      "/vortexfs1/scratch/kcarr/b.e11.B20TRC5CNBDRD.f09_g16.018.cam.h1.U200.19200101-20051231.nc\n",
      "/vortexfs1/scratch/kcarr/b.e11.B20TRC5CNBDRD.f09_g16.019.cam.h1.U200.19200101-20051231.nc\n",
      "/vortexfs1/scratch/kcarr/b.e11.B20TRC5CNBDRD.f09_g16.013.cam.h1.U200.19200101-20051231.nc\n",
      "/vortexfs1/scratch/kcarr/b.e11.B20TRC5CNBDRD.f09_g16.008.cam.h1.U200.19200101-20051231.nc\n",
      "/vortexfs1/scratch/kcarr/b.e11.B20TRC5CNBDRD.f09_g16.014.cam.h1.U200.19200101-20051231.nc\n",
      "/vortexfs1/scratch/kcarr/b.e11.B20TRC5CNBDRD.f09_g16.021.cam.h1.U200.19200101-20051231.nc\n",
      "/vortexfs1/scratch/kcarr/b.e11.B20TRC5CNBDRD.f09_g16.023.cam.h1.U200.19200101-20051231.nc\n",
      "/vortexfs1/scratch/kcarr/b.e11.B20TRC5CNBDRD.f09_g16.003.cam.h1.U200.19200101-20051231.nc\n",
      "/vortexfs1/scratch/kcarr/b.e11.B20TRC5CNBDRD.f09_g16.009.cam.h1.U200.19200101-20051231.nc\n",
      "/vortexfs1/scratch/kcarr/b.e11.B20TRC5CNBDRD.f09_g16.033.cam.h1.U200.19200101-20051231.nc\n",
      "/vortexfs1/scratch/kcarr/b.e11.B20TRC5CNBDRD.f09_g16.004.cam.h1.U200.19200101-20051231.nc\n",
      "/vortexfs1/scratch/kcarr/b.e11.B20TRC5CNBDRD.f09_g16.024.cam.h1.U200.19200101-20051231.nc\n",
      "/vortexfs1/scratch/kcarr/b.e11.B20TRC5CNBDRD.f09_g16.022.cam.h1.U200.19200101-20051231.nc\n",
      "/vortexfs1/scratch/kcarr/b.e11.B20TRC5CNBDRD.f09_g16.103.cam.h1.U200.19200101-20051231.nc\n",
      "/vortexfs1/scratch/kcarr/b.e11.B20TRC5CNBDRD.f09_g16.012.cam.h1.U200.19200101-20051231.nc\n",
      "/vortexfs1/scratch/kcarr/b.e11.B20TRC5CNBDRD.f09_g16.105.cam.h1.U200.19200101-20051231.nc\n",
      "/vortexfs1/scratch/kcarr/b.e11.B20TRC5CNBDRD.f09_g16.028.cam.h1.U200.19200101-20051231.nc\n",
      "/vortexfs1/scratch/kcarr/b.e11.B20TRC5CNBDRD.f09_g16.031.cam.h1.U200.19200101-20051231.nc\n",
      "/vortexfs1/scratch/kcarr/b.e11.B20TRC5CNBDRD.f09_g16.016.cam.h1.U200.19200101-20051231.nc\n",
      "/vortexfs1/scratch/kcarr/b.e11.B20TRC5CNBDRD.f09_g16.005.cam.h1.U200.19200101-20051231.nc\n",
      "/vortexfs1/scratch/kcarr/b.e11.B20TRC5CNBDRD.f09_g16.106.cam.h1.U200.19200101-20051231.nc\n",
      "/vortexfs1/scratch/kcarr/b.e11.B20TRC5CNBDRD.f09_g16.025.cam.h1.U200.19200101-20051231.nc\n",
      "/vortexfs1/scratch/kcarr/b.e11.B20TRC5CNBDRD.f09_g16.101.cam.h1.U200.19200101-20051231.nc\n",
      "/vortexfs1/scratch/kcarr/b.e11.B20TRC5CNBDRD.f09_g16.032.cam.h1.U200.19200101-20051231.nc\n",
      "/vortexfs1/scratch/kcarr/b.e11.B20TRC5CNBDRD.f09_g16.003.cam.h1.U850.19200101-20051231.nc\n",
      "/vortexfs1/scratch/kcarr/b.e11.B20TRC5CNBDRD.f09_g16.009.cam.h1.U850.19200101-20051231.nc\n",
      "/vortexfs1/scratch/kcarr/b.e11.B20TRC5CNBDRD.f09_g16.006.cam.h1.U200.19200101-20051231.nc\n",
      "/vortexfs1/scratch/kcarr/b.e11.B20TRC5CNBDRD.f09_g16.030.cam.h1.U200.19200101-20051231.nc\n",
      "/vortexfs1/scratch/kcarr/b.e11.B20TRC5CNBDRD.f09_g16.034.cam.h1.U200.19200101-20051231.nc\n",
      "/vortexfs1/scratch/kcarr/b.e11.B20TRC5CNBDRD.f09_g16.002.cam.h1.U200.19200101-20051231.nc\n",
      "/vortexfs1/scratch/kcarr/b.e11.B20TRC5CNBDRD.f09_g16.011.cam.h1.U200.19200101-20051231.nc\n",
      "/vortexfs1/scratch/kcarr/b.e11.B20TRC5CNBDRD.f09_g16.035.cam.h1.U850.19200101-20051231.nc\n",
      "/vortexfs1/scratch/kcarr/b.e11.B20TRC5CNBDRD.f09_g16.031.cam.h1.U850.19200101-20051231.nc\n",
      "/vortexfs1/scratch/kcarr/b.e11.B20TRC5CNBDRD.f09_g16.001.cam.h1.U200.18500101-20051231.nc\n",
      "/vortexfs1/scratch/kcarr/b.e11.B20TRC5CNBDRD.f09_g16.020.cam.h1.U200.19200101-20051231.nc\n",
      "/vortexfs1/scratch/kcarr/b.e11.B20TRC5CNBDRD.f09_g16.107.cam.h1.U200.19200101-20051231.nc\n",
      "/vortexfs1/scratch/kcarr/b.e11.B20TRC5CNBDRD.f09_g16.010.cam.h1.U200.19200101-20051231.nc\n",
      "/vortexfs1/scratch/kcarr/b.e11.B20TRC5CNBDRD.f09_g16.007.cam.h1.U200.19200101-20051231.nc\n",
      "/vortexfs1/scratch/kcarr/b.e11.B20TRC5CNBDRD.f09_g16.027.cam.h1.U200.19200101-20051231.nc\n",
      "/vortexfs1/scratch/kcarr/b.e11.B20TRC5CNBDRD.f09_g16.018.cam.h1.U850.19200101-20051231.nc\n",
      "/vortexfs1/scratch/kcarr/b.e11.B20TRC5CNBDRD.f09_g16.102.cam.h1.U850.19200101-20051231.nc\n",
      "/vortexfs1/scratch/kcarr/b.e11.B20TRC5CNBDRD.f09_g16.102.cam.h1.U200.19200101-20051231.nc\n",
      "/vortexfs1/scratch/kcarr/b.e11.B20TRC5CNBDRD.f09_g16.004.cam.h1.U850.19200101-20051231.nc\n",
      "/vortexfs1/scratch/kcarr/b.e11.B20TRC5CNBDRD.f09_g16.106.cam.h1.U850.19200101-20051231.nc\n",
      "/vortexfs1/scratch/kcarr/b.e11.B20TRC5CNBDRD.f09_g16.010.cam.h1.U850.19200101-20051231.nc\n",
      "/vortexfs1/scratch/kcarr/b.e11.B20TRC5CNBDRD.f09_g16.032.cam.h1.U850.19200101-20051231.nc\n",
      "/vortexfs1/scratch/kcarr/b.e11.B20TRC5CNBDRD.f09_g16.007.cam.h1.U850.19200101-20051231.nc\n",
      "/vortexfs1/scratch/kcarr/b.e11.B20TRC5CNBDRD.f09_g16.034.cam.h1.U850.19200101-20051231.nc\n",
      "/vortexfs1/scratch/kcarr/b.e11.B20TRC5CNBDRD.f09_g16.030.cam.h1.U850.19200101-20051231.nc\n",
      "/vortexfs1/scratch/kcarr/b.e11.B20TRC5CNBDRD.f09_g16.027.cam.h1.U850.19200101-20051231.nc\n",
      "/vortexfs1/scratch/kcarr/b.e11.B20TRC5CNBDRD.f09_g16.104.cam.h1.U850.19200101-20051231.nc\n",
      "/vortexfs1/scratch/kcarr/b.e11.B20TRC5CNBDRD.f09_g16.014.cam.h1.U850.19200101-20051231.nc\n",
      "/vortexfs1/scratch/kcarr/b.e11.B20TRC5CNBDRD.f09_g16.008.cam.h1.U850.19200101-20051231.nc\n",
      "/vortexfs1/scratch/kcarr/b.e11.B20TRC5CNBDRD.f09_g16.107.cam.h1.U850.19200101-20051231.nc\n",
      "/vortexfs1/scratch/kcarr/b.e11.B20TRC5CNBDRD.f09_g16.023.cam.h1.U850.19200101-20051231.nc\n",
      "/vortexfs1/scratch/kcarr/b.e11.B20TRC5CNBDRD.f09_g16.002.cam.h1.U850.19200101-20051231.nc\n",
      "/vortexfs1/scratch/kcarr/b.e11.B20TRC5CNBDRD.f09_g16.001.cam.h1.U850.18500101-20051231.nc\n",
      "/vortexfs1/scratch/kcarr/b.e11.B20TRC5CNBDRD.f09_g16.033.cam.h1.U850.19200101-20051231.nc\n",
      "/vortexfs1/scratch/kcarr/b.e11.B20TRC5CNBDRD.f09_g16.028.cam.h1.U850.19200101-20051231.nc\n",
      "/vortexfs1/scratch/kcarr/b.e11.B20TRC5CNBDRD.f09_g16.021.cam.h1.U850.19200101-20051231.nc\n",
      "/vortexfs1/scratch/kcarr/b.e11.B20TRC5CNBDRD.f09_g16.024.cam.h1.U850.19200101-20051231.nc\n",
      "/vortexfs1/scratch/kcarr/b.e11.B20TRC5CNBDRD.f09_g16.012.cam.h1.U850.19200101-20051231.nc\n",
      "/vortexfs1/scratch/kcarr/b.e11.B20TRC5CNBDRD.f09_g16.006.cam.h1.U850.19200101-20051231.nc\n",
      "/vortexfs1/scratch/kcarr/b.e11.B20TRC5CNBDRD.f09_g16.105.cam.h1.U850.19200101-20051231.nc\n",
      "/vortexfs1/scratch/kcarr/b.e11.B20TRC5CNBDRD.f09_g16.022.cam.h1.U850.19200101-20051231.nc\n",
      "/vortexfs1/scratch/kcarr/b.e11.B20TRC5CNBDRD.f09_g16.005.cam.h1.U850.19200101-20051231.nc\n",
      "/vortexfs1/scratch/kcarr/b.e11.B20TRC5CNBDRD.f09_g16.026.cam.h1.U850.19200101-20051231.nc\n",
      "/vortexfs1/scratch/kcarr/b.e11.B20TRC5CNBDRD.f09_g16.019.cam.h1.U850.19200101-20051231.nc\n",
      "/vortexfs1/scratch/kcarr/b.e11.B20TRC5CNBDRD.f09_g16.013.cam.h1.U850.19200101-20051231.nc\n",
      "/vortexfs1/scratch/kcarr/b.e11.B20TRC5CNBDRD.f09_g16.017.cam.h1.U850.19200101-20051231.nc\n",
      "/vortexfs1/scratch/kcarr/b.e11.B20TRC5CNBDRD.f09_g16.029.cam.h1.U850.19200101-20051231.nc\n",
      "/vortexfs1/scratch/kcarr/b.e11.B20TRC5CNBDRD.f09_g16.016.cam.h1.U850.19200101-20051231.nc\n",
      "/vortexfs1/scratch/kcarr/b.e11.B20TRC5CNBDRD.f09_g16.025.cam.h1.U850.19200101-20051231.nc\n",
      "/vortexfs1/scratch/kcarr/b.e11.B20TRC5CNBDRD.f09_g16.103.cam.h1.U850.19200101-20051231.nc\n",
      "/vortexfs1/scratch/kcarr/b.e11.B20TRC5CNBDRD.f09_g16.101.cam.h1.U850.19200101-20051231.nc\n",
      "/vortexfs1/scratch/kcarr/b.e11.B20TRC5CNBDRD.f09_g16.020.cam.h1.U850.19200101-20051231.nc\n",
      "/vortexfs1/scratch/kcarr/b.e11.B20TRC5CNBDRD.f09_g16.011.cam.h1.U850.19200101-20051231.nc\n",
      "/vortexfs1/scratch/kcarr/b.e11.B20TRC5CNBDRD.f09_g16.015.cam.h1.U850.19200101-20051231.nc\n"
     ]
    }
   ],
   "source": [
    "# files = flut_files + prect_files + sst_files\n",
    "# files = u200_files + u850_files\n",
    "with Pool(8) as p:\n",
    "    p.map(move_file, files)"
   ]
  },
  {
   "cell_type": "markdown",
   "metadata": {},
   "source": []
  }
 ],
 "metadata": {
  "kernelspec": {
   "display_name": "Python 3",
   "language": "python",
   "name": "python3"
  },
  "language_info": {
   "codemirror_mode": {
    "name": "ipython",
    "version": 3
   },
   "file_extension": ".py",
   "mimetype": "text/x-python",
   "name": "python",
   "nbconvert_exporter": "python",
   "pygments_lexer": "ipython3",
   "version": "3.7.6"
  }
 },
 "nbformat": 4,
 "nbformat_minor": 4
}
